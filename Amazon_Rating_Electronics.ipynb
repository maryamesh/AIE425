{
  "cells": [
    {
      "cell_type": "code",
      "execution_count": null,
      "metadata": {
        "id": "2XRJEj2toYUo"
      },
      "outputs": [],
      "source": [
        "import pandas as pd\n",
        "import matplotlib.pyplot as plt\n"
      ]
    },
    {
      "cell_type": "code",
      "execution_count": null,
      "metadata": {
        "id": "4qMMNGaroYUq"
      },
      "outputs": [],
      "source": [
        "data = pd.read_csv (\"D:\\\\UNI\\\\Semester 7\\\\IRS\\\\Assignment\\\\Assignement 1\\\\Electronics.csv\")"
      ]
    },
    {
      "cell_type": "code",
      "execution_count": null,
      "metadata": {
        "id": "IBlOuLdgoYUq",
        "outputId": "dc4f6f99-bb77-4a93-898b-d097549c0db0"
      },
      "outputs": [
        {
          "data": {
            "text/html": [
              "<div>\n",
              "<style scoped>\n",
              "    .dataframe tbody tr th:only-of-type {\n",
              "        vertical-align: middle;\n",
              "    }\n",
              "\n",
              "    .dataframe tbody tr th {\n",
              "        vertical-align: top;\n",
              "    }\n",
              "\n",
              "    .dataframe thead th {\n",
              "        text-align: right;\n",
              "    }\n",
              "</style>\n",
              "<table border=\"1\" class=\"dataframe\">\n",
              "  <thead>\n",
              "    <tr style=\"text-align: right;\">\n",
              "      <th></th>\n",
              "      <th>0060009810</th>\n",
              "      <th>A1N070NS9CJQ2I</th>\n",
              "      <th>5.0</th>\n",
              "      <th>1026864000</th>\n",
              "    </tr>\n",
              "  </thead>\n",
              "  <tbody>\n",
              "    <tr>\n",
              "      <th>0</th>\n",
              "      <td>0060009810</td>\n",
              "      <td>A3P0KRKOBQK1KN</td>\n",
              "      <td>5.0</td>\n",
              "      <td>1025913600</td>\n",
              "    </tr>\n",
              "    <tr>\n",
              "      <th>1</th>\n",
              "      <td>0060009810</td>\n",
              "      <td>A192HO2ICJ75VU</td>\n",
              "      <td>5.0</td>\n",
              "      <td>1025654400</td>\n",
              "    </tr>\n",
              "    <tr>\n",
              "      <th>2</th>\n",
              "      <td>0060009810</td>\n",
              "      <td>A2T278FKFL3BLT</td>\n",
              "      <td>4.0</td>\n",
              "      <td>1025395200</td>\n",
              "    </tr>\n",
              "    <tr>\n",
              "      <th>3</th>\n",
              "      <td>0060009810</td>\n",
              "      <td>A2ZUXVTW8RXBXW</td>\n",
              "      <td>5.0</td>\n",
              "      <td>1025222400</td>\n",
              "    </tr>\n",
              "    <tr>\n",
              "      <th>4</th>\n",
              "      <td>0060009810</td>\n",
              "      <td>A21JDG4HA6OLPF</td>\n",
              "      <td>4.0</td>\n",
              "      <td>1024963200</td>\n",
              "    </tr>\n",
              "  </tbody>\n",
              "</table>\n",
              "</div>"
            ],
            "text/plain": [
              "   0060009810  A1N070NS9CJQ2I  5.0  1026864000\n",
              "0  0060009810  A3P0KRKOBQK1KN  5.0  1025913600\n",
              "1  0060009810  A192HO2ICJ75VU  5.0  1025654400\n",
              "2  0060009810  A2T278FKFL3BLT  4.0  1025395200\n",
              "3  0060009810  A2ZUXVTW8RXBXW  5.0  1025222400\n",
              "4  0060009810  A21JDG4HA6OLPF  4.0  1024963200"
            ]
          },
          "execution_count": 3,
          "metadata": {},
          "output_type": "execute_result"
        }
      ],
      "source": [
        "data.head()"
      ]
    },
    {
      "cell_type": "code",
      "execution_count": null,
      "metadata": {
        "id": "WuLcPxl4oYUq",
        "outputId": "3c1047e8-fd66-4057-d766-c9cf88dc5b44"
      },
      "outputs": [
        {
          "data": {
            "text/html": [
              "<div>\n",
              "<style scoped>\n",
              "    .dataframe tbody tr th:only-of-type {\n",
              "        vertical-align: middle;\n",
              "    }\n",
              "\n",
              "    .dataframe tbody tr th {\n",
              "        vertical-align: top;\n",
              "    }\n",
              "\n",
              "    .dataframe thead th {\n",
              "        text-align: right;\n",
              "    }\n",
              "</style>\n",
              "<table border=\"1\" class=\"dataframe\">\n",
              "  <thead>\n",
              "    <tr style=\"text-align: right;\">\n",
              "      <th></th>\n",
              "      <th>UserID</th>\n",
              "      <th>ItemID</th>\n",
              "      <th>Rating</th>\n",
              "      <th>TimeStamp</th>\n",
              "    </tr>\n",
              "  </thead>\n",
              "  <tbody>\n",
              "    <tr>\n",
              "      <th>0</th>\n",
              "      <td>0060009810</td>\n",
              "      <td>A3P0KRKOBQK1KN</td>\n",
              "      <td>5.0</td>\n",
              "      <td>1025913600</td>\n",
              "    </tr>\n",
              "    <tr>\n",
              "      <th>1</th>\n",
              "      <td>0060009810</td>\n",
              "      <td>A192HO2ICJ75VU</td>\n",
              "      <td>5.0</td>\n",
              "      <td>1025654400</td>\n",
              "    </tr>\n",
              "    <tr>\n",
              "      <th>2</th>\n",
              "      <td>0060009810</td>\n",
              "      <td>A2T278FKFL3BLT</td>\n",
              "      <td>4.0</td>\n",
              "      <td>1025395200</td>\n",
              "    </tr>\n",
              "    <tr>\n",
              "      <th>3</th>\n",
              "      <td>0060009810</td>\n",
              "      <td>A2ZUXVTW8RXBXW</td>\n",
              "      <td>5.0</td>\n",
              "      <td>1025222400</td>\n",
              "    </tr>\n",
              "    <tr>\n",
              "      <th>4</th>\n",
              "      <td>0060009810</td>\n",
              "      <td>A21JDG4HA6OLPF</td>\n",
              "      <td>4.0</td>\n",
              "      <td>1024963200</td>\n",
              "    </tr>\n",
              "    <tr>\n",
              "      <th>...</th>\n",
              "      <td>...</td>\n",
              "      <td>...</td>\n",
              "      <td>...</td>\n",
              "      <td>...</td>\n",
              "    </tr>\n",
              "    <tr>\n",
              "      <th>20994347</th>\n",
              "      <td>B01HJF704M</td>\n",
              "      <td>A1RH0C7YHWZQER</td>\n",
              "      <td>1.0</td>\n",
              "      <td>1493424000</td>\n",
              "    </tr>\n",
              "    <tr>\n",
              "      <th>20994348</th>\n",
              "      <td>B01HJF704M</td>\n",
              "      <td>A2955VBJEJZ4S</td>\n",
              "      <td>5.0</td>\n",
              "      <td>1492387200</td>\n",
              "    </tr>\n",
              "    <tr>\n",
              "      <th>20994349</th>\n",
              "      <td>B01HJF704M</td>\n",
              "      <td>A1FGCIRPRNZWD5</td>\n",
              "      <td>5.0</td>\n",
              "      <td>1490918400</td>\n",
              "    </tr>\n",
              "    <tr>\n",
              "      <th>20994350</th>\n",
              "      <td>B01HJF704M</td>\n",
              "      <td>AOEG7L8HI8DXJ</td>\n",
              "      <td>5.0</td>\n",
              "      <td>1487203200</td>\n",
              "    </tr>\n",
              "    <tr>\n",
              "      <th>20994351</th>\n",
              "      <td>B01HJF704M</td>\n",
              "      <td>A1BXCUK9AT7KWG</td>\n",
              "      <td>5.0</td>\n",
              "      <td>1486771200</td>\n",
              "    </tr>\n",
              "  </tbody>\n",
              "</table>\n",
              "<p>20994352 rows × 4 columns</p>\n",
              "</div>"
            ],
            "text/plain": [
              "              UserID          ItemID  Rating   TimeStamp\n",
              "0         0060009810  A3P0KRKOBQK1KN     5.0  1025913600\n",
              "1         0060009810  A192HO2ICJ75VU     5.0  1025654400\n",
              "2         0060009810  A2T278FKFL3BLT     4.0  1025395200\n",
              "3         0060009810  A2ZUXVTW8RXBXW     5.0  1025222400\n",
              "4         0060009810  A21JDG4HA6OLPF     4.0  1024963200\n",
              "...              ...             ...     ...         ...\n",
              "20994347  B01HJF704M  A1RH0C7YHWZQER     1.0  1493424000\n",
              "20994348  B01HJF704M   A2955VBJEJZ4S     5.0  1492387200\n",
              "20994349  B01HJF704M  A1FGCIRPRNZWD5     5.0  1490918400\n",
              "20994350  B01HJF704M   AOEG7L8HI8DXJ     5.0  1487203200\n",
              "20994351  B01HJF704M  A1BXCUK9AT7KWG     5.0  1486771200\n",
              "\n",
              "[20994352 rows x 4 columns]"
            ]
          },
          "execution_count": 5,
          "metadata": {},
          "output_type": "execute_result"
        }
      ],
      "source": [
        "data.columns = [\"UserID\" , \"ItemID\" , \"Rating\", \"TimeStamp\"]\n",
        "data"
      ]
    },
    {
      "cell_type": "code",
      "execution_count": null,
      "metadata": {
        "id": "-t3U95QcoYUr"
      },
      "outputs": [],
      "source": [
        "data = data.drop ([\"TimeStamp\"], axis = 1)"
      ]
    },
    {
      "cell_type": "code",
      "execution_count": null,
      "metadata": {
        "id": "Xn5AfEQXoYUr",
        "outputId": "b9b8cbbb-3797-4a98-8c12-58abcd3d0784"
      },
      "outputs": [
        {
          "data": {
            "text/html": [
              "<div>\n",
              "<style scoped>\n",
              "    .dataframe tbody tr th:only-of-type {\n",
              "        vertical-align: middle;\n",
              "    }\n",
              "\n",
              "    .dataframe tbody tr th {\n",
              "        vertical-align: top;\n",
              "    }\n",
              "\n",
              "    .dataframe thead th {\n",
              "        text-align: right;\n",
              "    }\n",
              "</style>\n",
              "<table border=\"1\" class=\"dataframe\">\n",
              "  <thead>\n",
              "    <tr style=\"text-align: right;\">\n",
              "      <th></th>\n",
              "      <th>UserID</th>\n",
              "      <th>ItemID</th>\n",
              "      <th>Rating</th>\n",
              "    </tr>\n",
              "  </thead>\n",
              "  <tbody>\n",
              "    <tr>\n",
              "      <th>0</th>\n",
              "      <td>0060009810</td>\n",
              "      <td>A3P0KRKOBQK1KN</td>\n",
              "      <td>5.0</td>\n",
              "    </tr>\n",
              "    <tr>\n",
              "      <th>1</th>\n",
              "      <td>0060009810</td>\n",
              "      <td>A192HO2ICJ75VU</td>\n",
              "      <td>5.0</td>\n",
              "    </tr>\n",
              "    <tr>\n",
              "      <th>2</th>\n",
              "      <td>0060009810</td>\n",
              "      <td>A2T278FKFL3BLT</td>\n",
              "      <td>4.0</td>\n",
              "    </tr>\n",
              "    <tr>\n",
              "      <th>3</th>\n",
              "      <td>0060009810</td>\n",
              "      <td>A2ZUXVTW8RXBXW</td>\n",
              "      <td>5.0</td>\n",
              "    </tr>\n",
              "    <tr>\n",
              "      <th>4</th>\n",
              "      <td>0060009810</td>\n",
              "      <td>A21JDG4HA6OLPF</td>\n",
              "      <td>4.0</td>\n",
              "    </tr>\n",
              "    <tr>\n",
              "      <th>...</th>\n",
              "      <td>...</td>\n",
              "      <td>...</td>\n",
              "      <td>...</td>\n",
              "    </tr>\n",
              "    <tr>\n",
              "      <th>20994347</th>\n",
              "      <td>B01HJF704M</td>\n",
              "      <td>A1RH0C7YHWZQER</td>\n",
              "      <td>1.0</td>\n",
              "    </tr>\n",
              "    <tr>\n",
              "      <th>20994348</th>\n",
              "      <td>B01HJF704M</td>\n",
              "      <td>A2955VBJEJZ4S</td>\n",
              "      <td>5.0</td>\n",
              "    </tr>\n",
              "    <tr>\n",
              "      <th>20994349</th>\n",
              "      <td>B01HJF704M</td>\n",
              "      <td>A1FGCIRPRNZWD5</td>\n",
              "      <td>5.0</td>\n",
              "    </tr>\n",
              "    <tr>\n",
              "      <th>20994350</th>\n",
              "      <td>B01HJF704M</td>\n",
              "      <td>AOEG7L8HI8DXJ</td>\n",
              "      <td>5.0</td>\n",
              "    </tr>\n",
              "    <tr>\n",
              "      <th>20994351</th>\n",
              "      <td>B01HJF704M</td>\n",
              "      <td>A1BXCUK9AT7KWG</td>\n",
              "      <td>5.0</td>\n",
              "    </tr>\n",
              "  </tbody>\n",
              "</table>\n",
              "<p>20994352 rows × 3 columns</p>\n",
              "</div>"
            ],
            "text/plain": [
              "              UserID          ItemID  Rating\n",
              "0         0060009810  A3P0KRKOBQK1KN     5.0\n",
              "1         0060009810  A192HO2ICJ75VU     5.0\n",
              "2         0060009810  A2T278FKFL3BLT     4.0\n",
              "3         0060009810  A2ZUXVTW8RXBXW     5.0\n",
              "4         0060009810  A21JDG4HA6OLPF     4.0\n",
              "...              ...             ...     ...\n",
              "20994347  B01HJF704M  A1RH0C7YHWZQER     1.0\n",
              "20994348  B01HJF704M   A2955VBJEJZ4S     5.0\n",
              "20994349  B01HJF704M  A1FGCIRPRNZWD5     5.0\n",
              "20994350  B01HJF704M   AOEG7L8HI8DXJ     5.0\n",
              "20994351  B01HJF704M  A1BXCUK9AT7KWG     5.0\n",
              "\n",
              "[20994352 rows x 3 columns]"
            ]
          },
          "execution_count": 14,
          "metadata": {},
          "output_type": "execute_result"
        }
      ],
      "source": [
        "data"
      ]
    },
    {
      "cell_type": "code",
      "execution_count": null,
      "metadata": {
        "id": "889egruloYUr",
        "outputId": "58ce74b5-e764-4b8c-ed1c-07c44ae2e4ab"
      },
      "outputs": [
        {
          "data": {
            "text/plain": [
              "756489"
            ]
          },
          "execution_count": 20,
          "metadata": {},
          "output_type": "execute_result"
        }
      ],
      "source": [
        "userunique = len (pd.unique(data[\"UserID\"]))\n",
        "userunique"
      ]
    },
    {
      "cell_type": "code",
      "execution_count": null,
      "metadata": {
        "id": "MszEKP9woYUs",
        "outputId": "9237612f-b9a8-4d9f-e584-dda85fa92625"
      },
      "outputs": [
        {
          "name": "stdout",
          "output_type": "stream",
          "text": [
            "UserID\n",
            "B010OYASRG    28539\n",
            "B00L0YLRUW    20873\n",
            "B00DIF2BO2    17045\n",
            "B006GWO5WK    16130\n",
            "B003L1ZYYW    16056\n",
            "              ...  \n",
            "B00GXO0W5K        1\n",
            "B00GXOIMF2        1\n",
            "B00A8ZGSOE        1\n",
            "B003ZTYGMG        1\n",
            "B01HJF4DUG        1\n",
            "Name: count, Length: 756489, dtype: int64\n"
          ]
        }
      ],
      "source": [
        "userunique = data[\"UserID\"].value_counts()\n",
        "print(userunique)\n"
      ]
    },
    {
      "cell_type": "code",
      "execution_count": null,
      "metadata": {
        "id": "vNgsvIsmoYUs",
        "outputId": "d81eade7-f26a-4614-baad-a54e79271d59"
      },
      "outputs": [
        {
          "data": {
            "text/plain": [
              "9838676"
            ]
          },
          "execution_count": 22,
          "metadata": {},
          "output_type": "execute_result"
        }
      ],
      "source": [
        "itemunique = len (pd.unique(data[\"ItemID\"]))\n",
        "itemunique"
      ]
    },
    {
      "cell_type": "code",
      "execution_count": null,
      "metadata": {
        "id": "z1qVbaMVoYUs",
        "outputId": "962d6f44-1274-41c9-92f7-8527ca0b9ae8"
      },
      "outputs": [
        {
          "name": "stdout",
          "output_type": "stream",
          "text": [
            "Minimum rating is: 1\n",
            "Maximum rating is: 5\n"
          ]
        }
      ],
      "source": [
        "print('Minimum rating is: %d' %(data[\"Rating\"].min()))\n",
        "print('Maximum rating is: %d' %(data[\"Rating\"].max()))"
      ]
    },
    {
      "cell_type": "code",
      "execution_count": null,
      "metadata": {
        "id": "mO5mijDjoYUs"
      },
      "outputs": [],
      "source": [
        "data[\"Rating\"] = data[\"Rating\"].fillna(0).astype(int)"
      ]
    },
    {
      "cell_type": "code",
      "execution_count": null,
      "metadata": {
        "id": "X49-XTzuoYUs",
        "outputId": "41fe63aa-c373-4d64-b655-e0aabfa67a78"
      },
      "outputs": [
        {
          "data": {
            "text/plain": [
              "0           5\n",
              "1           5\n",
              "2           4\n",
              "3           5\n",
              "4           4\n",
              "           ..\n",
              "20994347    1\n",
              "20994348    5\n",
              "20994349    5\n",
              "20994350    5\n",
              "20994351    5\n",
              "Name: Rating, Length: 20994352, dtype: int32"
            ]
          },
          "execution_count": 30,
          "metadata": {},
          "output_type": "execute_result"
        }
      ],
      "source": [
        "data[\"Rating\"]"
      ]
    },
    {
      "cell_type": "code",
      "execution_count": null,
      "metadata": {
        "id": "PcCy93WwoYUt",
        "outputId": "702878ee-d83e-4da4-da30-53dbcd9eb4d2"
      },
      "outputs": [
        {
          "name": "stdout",
          "output_type": "stream",
          "text": [
            "Rating\n",
            "5    12602916\n",
            "4     3306379\n",
            "1     2415650\n",
            "3     1529818\n",
            "2     1139589\n",
            "Name: count, dtype: int64\n"
          ]
        }
      ],
      "source": [
        "rating_counts = data[\"Rating\"].value_counts()\n",
        "print(rating_counts)\n"
      ]
    },
    {
      "cell_type": "code",
      "execution_count": null,
      "metadata": {
        "id": "ATAHBxhboYUt",
        "outputId": "cf10fe4c-2a47-49c9-8dc0-454f5b09cd10"
      },
      "outputs": [
        {
          "data": {
            "text/html": [
              "<div>\n",
              "<style scoped>\n",
              "    .dataframe tbody tr th:only-of-type {\n",
              "        vertical-align: middle;\n",
              "    }\n",
              "\n",
              "    .dataframe tbody tr th {\n",
              "        vertical-align: top;\n",
              "    }\n",
              "\n",
              "    .dataframe thead th {\n",
              "        text-align: right;\n",
              "    }\n",
              "</style>\n",
              "<table border=\"1\" class=\"dataframe\">\n",
              "  <thead>\n",
              "    <tr style=\"text-align: right;\">\n",
              "      <th></th>\n",
              "      <th>UserID</th>\n",
              "      <th>ItemID</th>\n",
              "      <th>Rating</th>\n",
              "    </tr>\n",
              "  </thead>\n",
              "  <tbody>\n",
              "    <tr>\n",
              "      <th>446</th>\n",
              "      <td>0545105668</td>\n",
              "      <td>A1TIQNQJZ2LDNW</td>\n",
              "      <td>5</td>\n",
              "    </tr>\n",
              "    <tr>\n",
              "      <th>447</th>\n",
              "      <td>0545105668</td>\n",
              "      <td>A1TIQNQJZ2LDNW</td>\n",
              "      <td>5</td>\n",
              "    </tr>\n",
              "    <tr>\n",
              "      <th>448</th>\n",
              "      <td>0545105668</td>\n",
              "      <td>A1TIQNQJZ2LDNW</td>\n",
              "      <td>5</td>\n",
              "    </tr>\n",
              "    <tr>\n",
              "      <th>449</th>\n",
              "      <td>0545105668</td>\n",
              "      <td>A1TIQNQJZ2LDNW</td>\n",
              "      <td>5</td>\n",
              "    </tr>\n",
              "    <tr>\n",
              "      <th>464</th>\n",
              "      <td>0545105668</td>\n",
              "      <td>A1TIQNQJZ2LDNW</td>\n",
              "      <td>4</td>\n",
              "    </tr>\n",
              "    <tr>\n",
              "      <th>...</th>\n",
              "      <td>...</td>\n",
              "      <td>...</td>\n",
              "      <td>...</td>\n",
              "    </tr>\n",
              "    <tr>\n",
              "      <th>20986866</th>\n",
              "      <td>B01HD3OAL6</td>\n",
              "      <td>A95BP7KUYJZ6I</td>\n",
              "      <td>5</td>\n",
              "    </tr>\n",
              "    <tr>\n",
              "      <th>20986871</th>\n",
              "      <td>B01HD3OAL6</td>\n",
              "      <td>A95BP7KUYJZ6I</td>\n",
              "      <td>5</td>\n",
              "    </tr>\n",
              "    <tr>\n",
              "      <th>20989073</th>\n",
              "      <td>B01HEU1R82</td>\n",
              "      <td>A2HR2LPY7FAEUE</td>\n",
              "      <td>5</td>\n",
              "    </tr>\n",
              "    <tr>\n",
              "      <th>20994192</th>\n",
              "      <td>B01HJBWXCK</td>\n",
              "      <td>A15PU9COJNCWFN</td>\n",
              "      <td>2</td>\n",
              "    </tr>\n",
              "    <tr>\n",
              "      <th>20994193</th>\n",
              "      <td>B01HJBWXCK</td>\n",
              "      <td>A15PU9COJNCWFN</td>\n",
              "      <td>2</td>\n",
              "    </tr>\n",
              "  </tbody>\n",
              "</table>\n",
              "<p>876772 rows × 3 columns</p>\n",
              "</div>"
            ],
            "text/plain": [
              "              UserID          ItemID  Rating\n",
              "446       0545105668  A1TIQNQJZ2LDNW       5\n",
              "447       0545105668  A1TIQNQJZ2LDNW       5\n",
              "448       0545105668  A1TIQNQJZ2LDNW       5\n",
              "449       0545105668  A1TIQNQJZ2LDNW       5\n",
              "464       0545105668  A1TIQNQJZ2LDNW       4\n",
              "...              ...             ...     ...\n",
              "20986866  B01HD3OAL6   A95BP7KUYJZ6I       5\n",
              "20986871  B01HD3OAL6   A95BP7KUYJZ6I       5\n",
              "20989073  B01HEU1R82  A2HR2LPY7FAEUE       5\n",
              "20994192  B01HJBWXCK  A15PU9COJNCWFN       2\n",
              "20994193  B01HJBWXCK  A15PU9COJNCWFN       2\n",
              "\n",
              "[876772 rows x 3 columns]"
            ]
          },
          "execution_count": 39,
          "metadata": {},
          "output_type": "execute_result"
        }
      ],
      "source": [
        "duplicatesUSERITEM = data.duplicated (subset= [\"UserID\",\"ItemID\"], keep = False)\n",
        "data[duplicatesUSERITEM]\n"
      ]
    },
    {
      "cell_type": "code",
      "execution_count": null,
      "metadata": {
        "id": "cI4YeVE3oYUt",
        "outputId": "5badeab7-b284-48b1-ff35-b869a8293d70"
      },
      "outputs": [
        {
          "name": "stderr",
          "output_type": "stream",
          "text": [
            "C:\\Users\\Dell\\AppData\\Local\\Temp\\ipykernel_11392\\980868375.py:2: UserWarning: Boolean Series key will be reindexed to match DataFrame index.\n",
            "  data [duplicatesUSERITEM]\n"
          ]
        },
        {
          "data": {
            "text/html": [
              "<div>\n",
              "<style scoped>\n",
              "    .dataframe tbody tr th:only-of-type {\n",
              "        vertical-align: middle;\n",
              "    }\n",
              "\n",
              "    .dataframe tbody tr th {\n",
              "        vertical-align: top;\n",
              "    }\n",
              "\n",
              "    .dataframe thead th {\n",
              "        text-align: right;\n",
              "    }\n",
              "</style>\n",
              "<table border=\"1\" class=\"dataframe\">\n",
              "  <thead>\n",
              "    <tr style=\"text-align: right;\">\n",
              "      <th></th>\n",
              "      <th>UserID</th>\n",
              "      <th>ItemID</th>\n",
              "      <th>Rating</th>\n",
              "    </tr>\n",
              "  </thead>\n",
              "  <tbody>\n",
              "    <tr>\n",
              "      <th>446</th>\n",
              "      <td>0545105668</td>\n",
              "      <td>A1TIQNQJZ2LDNW</td>\n",
              "      <td>5</td>\n",
              "    </tr>\n",
              "    <tr>\n",
              "      <th>809</th>\n",
              "      <td>0594481902</td>\n",
              "      <td>A7HBRCQAXV0I3</td>\n",
              "      <td>5</td>\n",
              "    </tr>\n",
              "    <tr>\n",
              "      <th>4384</th>\n",
              "      <td>1059844575</td>\n",
              "      <td>A3A0RHSC12FJ0T</td>\n",
              "      <td>1</td>\n",
              "    </tr>\n",
              "    <tr>\n",
              "      <th>5932</th>\n",
              "      <td>1400501466</td>\n",
              "      <td>A369KV6LSB996X</td>\n",
              "      <td>5</td>\n",
              "    </tr>\n",
              "    <tr>\n",
              "      <th>6016</th>\n",
              "      <td>1400501466</td>\n",
              "      <td>A2BD5KVPI6CSPU</td>\n",
              "      <td>1</td>\n",
              "    </tr>\n",
              "    <tr>\n",
              "      <th>...</th>\n",
              "      <td>...</td>\n",
              "      <td>...</td>\n",
              "      <td>...</td>\n",
              "    </tr>\n",
              "    <tr>\n",
              "      <th>20976404</th>\n",
              "      <td>B01H4CFXZ8</td>\n",
              "      <td>A1FVJDV9066E23</td>\n",
              "      <td>5</td>\n",
              "    </tr>\n",
              "    <tr>\n",
              "      <th>20976409</th>\n",
              "      <td>B01H4CFXZ8</td>\n",
              "      <td>A6TS68L7C5A6O</td>\n",
              "      <td>5</td>\n",
              "    </tr>\n",
              "    <tr>\n",
              "      <th>20978621</th>\n",
              "      <td>B01H5R2XZU</td>\n",
              "      <td>A114SWJPI47NTX</td>\n",
              "      <td>5</td>\n",
              "    </tr>\n",
              "    <tr>\n",
              "      <th>20986866</th>\n",
              "      <td>B01HD3OAL6</td>\n",
              "      <td>A95BP7KUYJZ6I</td>\n",
              "      <td>5</td>\n",
              "    </tr>\n",
              "    <tr>\n",
              "      <th>20994192</th>\n",
              "      <td>B01HJBWXCK</td>\n",
              "      <td>A15PU9COJNCWFN</td>\n",
              "      <td>2</td>\n",
              "    </tr>\n",
              "  </tbody>\n",
              "</table>\n",
              "<p>435899 rows × 3 columns</p>\n",
              "</div>"
            ],
            "text/plain": [
              "              UserID          ItemID  Rating\n",
              "446       0545105668  A1TIQNQJZ2LDNW       5\n",
              "809       0594481902   A7HBRCQAXV0I3       5\n",
              "4384      1059844575  A3A0RHSC12FJ0T       1\n",
              "5932      1400501466  A369KV6LSB996X       5\n",
              "6016      1400501466  A2BD5KVPI6CSPU       1\n",
              "...              ...             ...     ...\n",
              "20976404  B01H4CFXZ8  A1FVJDV9066E23       5\n",
              "20976409  B01H4CFXZ8   A6TS68L7C5A6O       5\n",
              "20978621  B01H5R2XZU  A114SWJPI47NTX       5\n",
              "20986866  B01HD3OAL6   A95BP7KUYJZ6I       5\n",
              "20994192  B01HJBWXCK  A15PU9COJNCWFN       2\n",
              "\n",
              "[435899 rows x 3 columns]"
            ]
          },
          "execution_count": 40,
          "metadata": {},
          "output_type": "execute_result"
        }
      ],
      "source": [
        "data.drop_duplicates (subset= [\"UserID\", \"ItemID\"], inplace = True , keep = \"first\")\n",
        "data [duplicatesUSERITEM]"
      ]
    },
    {
      "cell_type": "code",
      "execution_count": null,
      "metadata": {
        "id": "TaQW9ekboYUt",
        "outputId": "f7118e8a-170a-4350-bdd2-12392ff5ed08"
      },
      "outputs": [
        {
          "data": {
            "text/html": [
              "<div>\n",
              "<style scoped>\n",
              "    .dataframe tbody tr th:only-of-type {\n",
              "        vertical-align: middle;\n",
              "    }\n",
              "\n",
              "    .dataframe tbody tr th {\n",
              "        vertical-align: top;\n",
              "    }\n",
              "\n",
              "    .dataframe thead th {\n",
              "        text-align: right;\n",
              "    }\n",
              "</style>\n",
              "<table border=\"1\" class=\"dataframe\">\n",
              "  <thead>\n",
              "    <tr style=\"text-align: right;\">\n",
              "      <th></th>\n",
              "      <th>UserID</th>\n",
              "      <th>ItemID</th>\n",
              "      <th>Rating</th>\n",
              "    </tr>\n",
              "  </thead>\n",
              "  <tbody>\n",
              "    <tr>\n",
              "      <th>0</th>\n",
              "      <td>0060009810</td>\n",
              "      <td>A3P0KRKOBQK1KN</td>\n",
              "      <td>5</td>\n",
              "    </tr>\n",
              "    <tr>\n",
              "      <th>1</th>\n",
              "      <td>0060009810</td>\n",
              "      <td>A192HO2ICJ75VU</td>\n",
              "      <td>5</td>\n",
              "    </tr>\n",
              "    <tr>\n",
              "      <th>2</th>\n",
              "      <td>0060009810</td>\n",
              "      <td>A2T278FKFL3BLT</td>\n",
              "      <td>4</td>\n",
              "    </tr>\n",
              "    <tr>\n",
              "      <th>3</th>\n",
              "      <td>0060009810</td>\n",
              "      <td>A2ZUXVTW8RXBXW</td>\n",
              "      <td>5</td>\n",
              "    </tr>\n",
              "    <tr>\n",
              "      <th>4</th>\n",
              "      <td>0060009810</td>\n",
              "      <td>A21JDG4HA6OLPF</td>\n",
              "      <td>4</td>\n",
              "    </tr>\n",
              "    <tr>\n",
              "      <th>...</th>\n",
              "      <td>...</td>\n",
              "      <td>...</td>\n",
              "      <td>...</td>\n",
              "    </tr>\n",
              "    <tr>\n",
              "      <th>20994347</th>\n",
              "      <td>B01HJF704M</td>\n",
              "      <td>A1RH0C7YHWZQER</td>\n",
              "      <td>1</td>\n",
              "    </tr>\n",
              "    <tr>\n",
              "      <th>20994348</th>\n",
              "      <td>B01HJF704M</td>\n",
              "      <td>A2955VBJEJZ4S</td>\n",
              "      <td>5</td>\n",
              "    </tr>\n",
              "    <tr>\n",
              "      <th>20994349</th>\n",
              "      <td>B01HJF704M</td>\n",
              "      <td>A1FGCIRPRNZWD5</td>\n",
              "      <td>5</td>\n",
              "    </tr>\n",
              "    <tr>\n",
              "      <th>20994350</th>\n",
              "      <td>B01HJF704M</td>\n",
              "      <td>AOEG7L8HI8DXJ</td>\n",
              "      <td>5</td>\n",
              "    </tr>\n",
              "    <tr>\n",
              "      <th>20994351</th>\n",
              "      <td>B01HJF704M</td>\n",
              "      <td>A1BXCUK9AT7KWG</td>\n",
              "      <td>5</td>\n",
              "    </tr>\n",
              "  </tbody>\n",
              "</table>\n",
              "<p>20553479 rows × 3 columns</p>\n",
              "</div>"
            ],
            "text/plain": [
              "              UserID          ItemID  Rating\n",
              "0         0060009810  A3P0KRKOBQK1KN       5\n",
              "1         0060009810  A192HO2ICJ75VU       5\n",
              "2         0060009810  A2T278FKFL3BLT       4\n",
              "3         0060009810  A2ZUXVTW8RXBXW       5\n",
              "4         0060009810  A21JDG4HA6OLPF       4\n",
              "...              ...             ...     ...\n",
              "20994347  B01HJF704M  A1RH0C7YHWZQER       1\n",
              "20994348  B01HJF704M   A2955VBJEJZ4S       5\n",
              "20994349  B01HJF704M  A1FGCIRPRNZWD5       5\n",
              "20994350  B01HJF704M   AOEG7L8HI8DXJ       5\n",
              "20994351  B01HJF704M  A1BXCUK9AT7KWG       5\n",
              "\n",
              "[20553479 rows x 3 columns]"
            ]
          },
          "execution_count": 41,
          "metadata": {},
          "output_type": "execute_result"
        }
      ],
      "source": [
        "data"
      ]
    },
    {
      "cell_type": "code",
      "execution_count": null,
      "metadata": {
        "id": "Hu6Zm19HoYUt",
        "outputId": "d39e6fb8-a8b7-479c-9418-18e972b033d2"
      },
      "outputs": [
        {
          "name": "stdout",
          "output_type": "stream",
          "text": [
            "756489\n",
            "9838676\n",
            "Rating\n",
            "5    12339969\n",
            "4     3229099\n",
            "1     2369796\n",
            "3     1497569\n",
            "2     1117046\n",
            "Name: count, dtype: int64\n"
          ]
        }
      ],
      "source": [
        "userunique = len (pd.unique(data[\"UserID\"]))\n",
        "print(userunique)\n",
        "itemunique = len (pd.unique(data[\"ItemID\"]))\n",
        "print(itemunique)\n",
        "rating_counts = data[\"Rating\"].value_counts()\n",
        "print(rating_counts)"
      ]
    },
    {
      "cell_type": "code",
      "execution_count": null,
      "metadata": {
        "id": "Vt-WNPhQoYUt",
        "outputId": "d5c4ec9b-13e4-4162-c942-ffadf7a41a6a"
      },
      "outputs": [
        {
          "name": "stdout",
          "output_type": "stream",
          "text": [
            "Number of missing values across columns: \n",
            " UserID    0\n",
            "ItemID    0\n",
            "Rating    0\n",
            "dtype: int64\n"
          ]
        }
      ],
      "source": [
        "print('Number of missing values across columns: \\n',data.isnull().sum())\n"
      ]
    },
    {
      "cell_type": "code",
      "execution_count": null,
      "metadata": {
        "id": "ZQ3Gkhr1oYUt",
        "outputId": "2539c790-c881-4031-b43e-286e435db4ba"
      },
      "outputs": [
        {
          "data": {
            "image/png": "[encoded data removed]",
            "text/plain": [
              "<Figure size 800x600 with 1 Axes>"
            ]
          },
          "metadata": {},
          "output_type": "display_data"
        }
      ],
      "source": [
        "rating_counts = data_sorted[\"Rating\"].value_counts().sort_index()\n",
        "plt.figure(figsize=(8, 6))\n",
        "rating_counts.plot(kind='bar', color='black')\n",
        "plt.title('Rating Distribution')\n",
        "plt.xlabel('Rating')\n",
        "plt.ylabel('Count')\n",
        "plt.xticks(rotation=0)\n",
        "plt.show()"
      ]
    },
    {
      "cell_type": "code",
      "execution_count": null,
      "metadata": {
        "id": "Z2T5btYAoYUt",
        "outputId": "340ac5ec-6574-4a8d-f6a5-3b20ee8cfc4b"
      },
      "outputs": [
        {
          "data": {
            "text/plain": [
              "<Axes: xlabel='ItemID'>"
            ]
          },
          "execution_count": 60,
          "metadata": {},
          "output_type": "execute_result"
        },
        {
          "data": {
            "image/png": "[encoded data removed]",
            "text/plain": [
              "<Figure size 640x480 with 1 Axes>"
            ]
          },
          "metadata": {},
          "output_type": "display_data"
        }
      ],
      "source": [
        "popularITEMS = pd.DataFrame (data.groupby(\"ItemID\")[\"Rating\"].count())\n",
        "most_popular = popularITEMS.sort_values('Rating', ascending=False)\n",
        "most_popular.head(30).plot(kind = \"bar\", color='black')\n"
      ]
    },
    {
      "cell_type": "code",
      "execution_count": null,
      "metadata": {
        "id": "gcJJVdkroYUt",
        "outputId": "6661c1f7-369d-4ec9-db86-1982e1601e07"
      },
      "outputs": [
        {
          "name": "stdout",
          "output_type": "stream",
          "text": [
            "                Rating\n",
            "ItemID                \n",
            "A680RUE1FDO8B      598\n",
            "A3OXHLG6DIBRW8     549\n",
            "ADLVFFE4VBT8       500\n",
            "A1X1CEGHTHMBL1     462\n",
            "A5JLAU2ARJ0BO      458\n",
            "...                ...\n",
            "A2J9NTP3XRYJZ        1\n",
            "A2J9NTDI26FYHV       1\n",
            "A2J9NQY5DYH04Y       1\n",
            "A2J9NPA5KM3WNN       1\n",
            "A2W4MUCX8DW4Q9       1\n",
            "\n",
            "[9838676 rows x 1 columns]\n"
          ]
        }
      ],
      "source": [
        "print (most_popular)"
      ]
    },
    {
      "cell_type": "code",
      "execution_count": null,
      "metadata": {
        "id": "O3zeB_d6oYUt",
        "outputId": "538a1d46-40de-4ddc-f49a-503ead351f60"
      },
      "outputs": [
        {
          "data": {
            "text/html": [
              "<div>\n",
              "<style scoped>\n",
              "    .dataframe tbody tr th:only-of-type {\n",
              "        vertical-align: middle;\n",
              "    }\n",
              "\n",
              "    .dataframe tbody tr th {\n",
              "        vertical-align: top;\n",
              "    }\n",
              "\n",
              "    .dataframe thead th {\n",
              "        text-align: right;\n",
              "    }\n",
              "</style>\n",
              "<table border=\"1\" class=\"dataframe\">\n",
              "  <thead>\n",
              "    <tr style=\"text-align: right;\">\n",
              "      <th></th>\n",
              "      <th>UserID</th>\n",
              "      <th>ItemID</th>\n",
              "      <th>Rating</th>\n",
              "    </tr>\n",
              "  </thead>\n",
              "  <tbody>\n",
              "    <tr>\n",
              "      <th>0</th>\n",
              "      <td>B00IX17RZY</td>\n",
              "      <td>A680RUE1FDO8B</td>\n",
              "      <td>5</td>\n",
              "    </tr>\n",
              "    <tr>\n",
              "      <th>1</th>\n",
              "      <td>B013UN56SY</td>\n",
              "      <td>A680RUE1FDO8B</td>\n",
              "      <td>5</td>\n",
              "    </tr>\n",
              "    <tr>\n",
              "      <th>2</th>\n",
              "      <td>B0149OP3P4</td>\n",
              "      <td>A680RUE1FDO8B</td>\n",
              "      <td>5</td>\n",
              "    </tr>\n",
              "    <tr>\n",
              "      <th>3</th>\n",
              "      <td>B00FFVYUQY</td>\n",
              "      <td>A680RUE1FDO8B</td>\n",
              "      <td>1</td>\n",
              "    </tr>\n",
              "    <tr>\n",
              "      <th>4</th>\n",
              "      <td>B0015LTBG2</td>\n",
              "      <td>A680RUE1FDO8B</td>\n",
              "      <td>3</td>\n",
              "    </tr>\n",
              "  </tbody>\n",
              "</table>\n",
              "</div>"
            ],
            "text/plain": [
              "       UserID         ItemID  Rating\n",
              "0  B00IX17RZY  A680RUE1FDO8B       5\n",
              "1  B013UN56SY  A680RUE1FDO8B       5\n",
              "2  B0149OP3P4  A680RUE1FDO8B       5\n",
              "3  B00FFVYUQY  A680RUE1FDO8B       1\n",
              "4  B0015LTBG2  A680RUE1FDO8B       3"
            ]
          },
          "execution_count": 56,
          "metadata": {},
          "output_type": "execute_result"
        }
      ],
      "source": [
        "\n",
        "popularITEMS = pd.DataFrame(data.groupby(\"ItemID\")[\"Rating\"].count())\n",
        "most_popular = popularITEMS.sort_values('Rating', ascending=False)\n",
        "data_sorted = data.merge(most_popular, on=\"ItemID\", how=\"left\", suffixes=('', '_count'))\n",
        "data_sorted = data_sorted.sort_values('Rating_count', ascending=False).drop(columns=['Rating_count'])\n",
        "data_sorted = data_sorted.reset_index(drop=True)\n",
        "data_sorted.head()\n"
      ]
    },
    {
      "cell_type": "code",
      "execution_count": null,
      "metadata": {
        "id": "YFE9DLCLoYUu"
      },
      "outputs": [],
      "source": [
        "user_mapping = {user: f'U{idx +1}' for idx , user in enumerate (data_sorted[\"UserID\"].unique())}\n",
        "item_mapping = {item: f'I{idx +1}' for idx , item in enumerate (data_sorted[\"ItemID\"].unique())}\n",
        "\n",
        "data_sorted ['UserID'] = data_sorted [\"UserID\"].map(user_mapping)\n",
        "data_sorted[\"ItemID\"] = data_sorted [\"ItemID\"].map(item_mapping)"
      ]
    },
    {
      "cell_type": "code",
      "execution_count": null,
      "metadata": {
        "id": "jrN1pB1koYUu",
        "outputId": "75577453-37e4-45ad-cb19-466bb1dced95"
      },
      "outputs": [
        {
          "data": {
            "text/html": [
              "<div>\n",
              "<style scoped>\n",
              "    .dataframe tbody tr th:only-of-type {\n",
              "        vertical-align: middle;\n",
              "    }\n",
              "\n",
              "    .dataframe tbody tr th {\n",
              "        vertical-align: top;\n",
              "    }\n",
              "\n",
              "    .dataframe thead th {\n",
              "        text-align: right;\n",
              "    }\n",
              "</style>\n",
              "<table border=\"1\" class=\"dataframe\">\n",
              "  <thead>\n",
              "    <tr style=\"text-align: right;\">\n",
              "      <th></th>\n",
              "      <th>UserID</th>\n",
              "      <th>ItemID</th>\n",
              "      <th>Rating</th>\n",
              "    </tr>\n",
              "  </thead>\n",
              "  <tbody>\n",
              "    <tr>\n",
              "      <th>0</th>\n",
              "      <td>U1</td>\n",
              "      <td>I1</td>\n",
              "      <td>5</td>\n",
              "    </tr>\n",
              "    <tr>\n",
              "      <th>1</th>\n",
              "      <td>U2</td>\n",
              "      <td>I1</td>\n",
              "      <td>5</td>\n",
              "    </tr>\n",
              "    <tr>\n",
              "      <th>2</th>\n",
              "      <td>U3</td>\n",
              "      <td>I1</td>\n",
              "      <td>5</td>\n",
              "    </tr>\n",
              "    <tr>\n",
              "      <th>3</th>\n",
              "      <td>U4</td>\n",
              "      <td>I1</td>\n",
              "      <td>1</td>\n",
              "    </tr>\n",
              "    <tr>\n",
              "      <th>4</th>\n",
              "      <td>U5</td>\n",
              "      <td>I1</td>\n",
              "      <td>3</td>\n",
              "    </tr>\n",
              "    <tr>\n",
              "      <th>...</th>\n",
              "      <td>...</td>\n",
              "      <td>...</td>\n",
              "      <td>...</td>\n",
              "    </tr>\n",
              "    <tr>\n",
              "      <th>20553474</th>\n",
              "      <td>U9160</td>\n",
              "      <td>I9838672</td>\n",
              "      <td>1</td>\n",
              "    </tr>\n",
              "    <tr>\n",
              "      <th>20553475</th>\n",
              "      <td>U9160</td>\n",
              "      <td>I9838673</td>\n",
              "      <td>1</td>\n",
              "    </tr>\n",
              "    <tr>\n",
              "      <th>20553476</th>\n",
              "      <td>U40324</td>\n",
              "      <td>I9838674</td>\n",
              "      <td>5</td>\n",
              "    </tr>\n",
              "    <tr>\n",
              "      <th>20553477</th>\n",
              "      <td>U40324</td>\n",
              "      <td>I9838675</td>\n",
              "      <td>5</td>\n",
              "    </tr>\n",
              "    <tr>\n",
              "      <th>20553478</th>\n",
              "      <td>U131500</td>\n",
              "      <td>I9838676</td>\n",
              "      <td>5</td>\n",
              "    </tr>\n",
              "  </tbody>\n",
              "</table>\n",
              "<p>20553479 rows × 3 columns</p>\n",
              "</div>"
            ],
            "text/plain": [
              "           UserID    ItemID  Rating\n",
              "0              U1        I1       5\n",
              "1              U2        I1       5\n",
              "2              U3        I1       5\n",
              "3              U4        I1       1\n",
              "4              U5        I1       3\n",
              "...           ...       ...     ...\n",
              "20553474    U9160  I9838672       1\n",
              "20553475    U9160  I9838673       1\n",
              "20553476   U40324  I9838674       5\n",
              "20553477   U40324  I9838675       5\n",
              "20553478  U131500  I9838676       5\n",
              "\n",
              "[20553479 rows x 3 columns]"
            ]
          },
          "execution_count": 84,
          "metadata": {},
          "output_type": "execute_result"
        }
      ],
      "source": [
        "data_sorted"
      ]
    },
    {
      "cell_type": "code",
      "execution_count": null,
      "metadata": {
        "id": "Tj3lNLquoYUu",
        "outputId": "c0ec0df4-221b-40f3-990f-0e25cad6664c"
      },
      "outputs": [
        {
          "data": {
            "text/html": [
              "<div>\n",
              "<style scoped>\n",
              "    .dataframe tbody tr th:only-of-type {\n",
              "        vertical-align: middle;\n",
              "    }\n",
              "\n",
              "    .dataframe tbody tr th {\n",
              "        vertical-align: top;\n",
              "    }\n",
              "\n",
              "    .dataframe thead th {\n",
              "        text-align: right;\n",
              "    }\n",
              "</style>\n",
              "<table border=\"1\" class=\"dataframe\">\n",
              "  <thead>\n",
              "    <tr style=\"text-align: right;\">\n",
              "      <th>ItemID</th>\n",
              "      <th>I1</th>\n",
              "    </tr>\n",
              "    <tr>\n",
              "      <th>UserID</th>\n",
              "      <th></th>\n",
              "    </tr>\n",
              "  </thead>\n",
              "  <tbody>\n",
              "    <tr>\n",
              "      <th>U1</th>\n",
              "      <td>5.0</td>\n",
              "    </tr>\n",
              "    <tr>\n",
              "      <th>U2</th>\n",
              "      <td>5.0</td>\n",
              "    </tr>\n",
              "    <tr>\n",
              "      <th>U3</th>\n",
              "      <td>5.0</td>\n",
              "    </tr>\n",
              "    <tr>\n",
              "      <th>U4</th>\n",
              "      <td>1.0</td>\n",
              "    </tr>\n",
              "    <tr>\n",
              "      <th>U5</th>\n",
              "      <td>3.0</td>\n",
              "    </tr>\n",
              "  </tbody>\n",
              "</table>\n",
              "</div>"
            ],
            "text/plain": [
              "ItemID   I1\n",
              "UserID     \n",
              "U1      5.0\n",
              "U2      5.0\n",
              "U3      5.0\n",
              "U4      1.0\n",
              "U5      3.0"
            ]
          },
          "execution_count": 85,
          "metadata": {},
          "output_type": "execute_result"
        }
      ],
      "source": [
        "matrixdf = data_sorted[data_sorted['UserID'].isin(['U1', 'U2', 'U3', 'U4', 'U5']) &\n",
        "                       data_sorted['ItemID'].isin(['I1', 'I2', 'I3', 'I4', 'I5'])]\n",
        "matrix = matrixdf.pivot_table(values = \"Rating\", index = \"UserID\", columns = \"ItemID\", fill_value = 0)\n",
        "matrix"
      ]
    },
    {
      "cell_type": "code",
      "execution_count": null,
      "metadata": {
        "id": "kjEB1XOtoYUu",
        "outputId": "429bce1a-4e0e-46ee-d497-7342380c381c"
      },
      "outputs": [
        {
          "name": "stdout",
          "output_type": "stream",
          "text": [
            "['U1' 'U2' 'U3' 'U4' 'U5' 'U6' 'U7' 'U8' 'U9' 'U10']\n",
            "['I1' 'I2' 'I3' 'I4' 'I5' 'I6' 'I7' 'I8' 'I9' 'I10']\n"
          ]
        }
      ],
      "source": [
        "print(data_sorted['UserID'].unique()[:10])  # Check first few unique UserIDs\n",
        "print(data_sorted['ItemID'].unique()[:10])  # Check first few unique ItemIDs\n"
      ]
    },
    {
      "cell_type": "code",
      "execution_count": null,
      "metadata": {
        "id": "TambrtgOoYUu",
        "outputId": "b308313a-11a1-412f-9c5c-c36b2fff9886"
      },
      "outputs": [
        {
          "name": "stdout",
          "output_type": "stream",
          "text": [
            "ItemID   I1\n",
            "UserID     \n",
            "U1      5.0\n",
            "U2      5.0\n",
            "U3      5.0\n",
            "U4      1.0\n",
            "U5      3.0\n"
          ]
        }
      ],
      "source": [
        "# Filter data_sorted to include only the top 5 users and top 5 items\n",
        "matrixdf = data_sorted[data_sorted['UserID'].isin(['U1', 'U2', 'U3', 'U4', 'U5']) &\n",
        "                       data_sorted['ItemID'].isin(['I1', 'I2', 'I3', 'I4', 'I5'])]\n",
        "\n",
        "# Create a pivot table with the filtered data\n",
        "matrix = matrixdf.pivot_table(values=\"Rating\", index=\"UserID\", columns=\"ItemID\", fill_value=0)\n",
        "\n",
        "# Display the matrix\n",
        "print (pd.DataFrame(matrix))\n"
      ]
    },
    {
      "cell_type": "code",
      "execution_count": null,
      "metadata": {
        "id": "4U1KNNqXoYUu",
        "outputId": "fd544c46-f18a-4d89-af7c-0bc49466a8ec"
      },
      "outputs": [
        {
          "name": "stdout",
          "output_type": "stream",
          "text": [
            "Entries for selected UserIDs:\n",
            "          UserID    ItemID  Rating\n",
            "0            U1        I1       5\n",
            "1            U2        I1       5\n",
            "2            U3        I1       5\n",
            "3            U4        I1       1\n",
            "4            U5        I1       3\n",
            "...         ...       ...     ...\n",
            "19468771     U4  I8753969       5\n",
            "19468772     U4  I8753970       1\n",
            "20286396     U1  I9571594       5\n",
            "20286397     U1  I9571595       5\n",
            "20286398     U1  I9571596       1\n",
            "\n",
            "[287 rows x 3 columns]\n",
            "Entries for selected ItemIDs:\n",
            "      UserID ItemID  Rating\n",
            "0        U1     I1       5\n",
            "1        U2     I1       5\n",
            "2        U3     I1       5\n",
            "3        U4     I1       1\n",
            "4        U5     I1       3\n",
            "...     ...    ...     ...\n",
            "2562  U2456     I5       5\n",
            "2563  U2457     I5       5\n",
            "2564  U2458     I5       5\n",
            "2565  U1595     I5       2\n",
            "2566  U2459     I5       3\n",
            "\n",
            "[2567 rows x 3 columns]\n"
          ]
        }
      ],
      "source": [
        "# Check if there are any rows with UserID in ['U1', 'U2', 'U3', 'U4', 'U5']\n",
        "user_check = data_sorted[data_sorted['UserID'].isin(['U1', 'U2', 'U3', 'U4', 'U5'])]\n",
        "print(\"Entries for selected UserIDs:\\n\", user_check)\n",
        "\n",
        "# Check if there are any rows with ItemID in ['I1', 'I2', 'I3', 'I4', 'I5']\n",
        "item_check = data_sorted[data_sorted['ItemID'].isin(['I1', 'I2', 'I3', 'I4', 'I5'])]\n",
        "print(\"Entries for selected ItemIDs:\\n\", item_check)\n"
      ]
    },
    {
      "cell_type": "code",
      "execution_count": null,
      "metadata": {
        "id": "hLruYCLgoYUu",
        "outputId": "ed57139f-75eb-4c60-bf5e-6c3b328e7c27"
      },
      "outputs": [
        {
          "name": "stdout",
          "output_type": "stream",
          "text": [
            "Top 5 items for U1 to U5: ['I1', 'I3399900', 'I3504501', 'I3446848', 'I3494579']\n"
          ]
        }
      ],
      "source": [
        "# Filter data_sorted for U1 to U5\n",
        "user_subset = data_sorted[data_sorted['UserID'].isin(['U1', 'U2', 'U3', 'U4', 'U5'])]\n",
        "\n",
        "# Get the top 5 items rated by these users\n",
        "top_items = user_subset['ItemID'].value_counts().head(5).index.tolist()\n",
        "print(\"Top 5 items for U1 to U5:\", top_items)\n"
      ]
    },
    {
      "cell_type": "code",
      "execution_count": null,
      "metadata": {
        "id": "ZJHAp_AuoYUu",
        "outputId": "477b9011-bb7a-4e05-c532-556676db40a1"
      },
      "outputs": [
        {
          "name": "stdout",
          "output_type": "stream",
          "text": [
            "           UserID    ItemID  Rating\n",
            "0          U20991  I6986693       5\n",
            "1          U13013   I653441       5\n",
            "2         U301609  I4603025       5\n",
            "3          U18766  I8576604       5\n",
            "4          U95951  I4909105       5\n",
            "...           ...       ...     ...\n",
            "20553474  U126280   I113962       4\n",
            "20553475   U36320  I7661255       2\n",
            "20553476   U58141  I8827228       5\n",
            "20553477   U12636  I2450655       5\n",
            "20553478   U47568  I1610778       5\n",
            "\n",
            "[20553479 rows x 3 columns]\n"
          ]
        }
      ],
      "source": [
        "# Shuffle the rows of data_sorted randomly\n",
        "data_shuffled = data_sorted.sample(frac=1).reset_index(drop=True)\n",
        "\n",
        "# Display the shuffled DataFrame\n",
        "print(data_shuffled)\n"
      ]
    },
    {
      "cell_type": "code",
      "execution_count": null,
      "metadata": {
        "id": "YMIPpNgOoYUu",
        "outputId": "b87795b1-79e3-483d-c23f-fcc0dd2ad438"
      },
      "outputs": [
        {
          "name": "stdout",
          "output_type": "stream",
          "text": [
            "ItemID   I3   I9  I17  I983   I2\n",
            "UserID                          \n",
            "U1099   4.0  0.0  0.0   2.0  5.0\n",
            "U1060   0.0  3.0  0.0   3.0  5.0\n",
            "U898    4.0  0.0  4.0   0.0  4.0\n",
            "U646    0.0  3.0  0.0   3.0  5.0\n",
            "U713    2.0  0.0  4.0   0.0  5.0\n"
          ]
        }
      ],
      "source": [
        "def build_item_based_dense_matrix(data_sorted, target_items, max_users=5, max_zeros_per_row=2):\n",
        "    # Step 1: Filter the dataset to only include the target items\n",
        "    item_data = data_sorted[data_sorted['ItemID'].isin(target_items)]\n",
        "\n",
        "    # Step 2: Find users who rated most of these items\n",
        "    user_counts = item_data['UserID'].value_counts()\n",
        "    selected_users = []\n",
        "\n",
        "    for user in user_counts.index:\n",
        "        user_ratings = item_data[item_data['UserID'] == user]\n",
        "\n",
        "        # Check if the user has rated at least len(target_items) - max_zeros_per_row items\n",
        "        if len(user_ratings) >= len(target_items) - max_zeros_per_row:\n",
        "            selected_users.append(user)\n",
        "\n",
        "        # Stop if we have enough users\n",
        "        if len(selected_users) == max_users:\n",
        "            break\n",
        "\n",
        "    # Step 3: Filter the data to only include selected users and target items\n",
        "    matrix_data = item_data[(item_data['UserID'].isin(selected_users)) &\n",
        "                            (item_data['ItemID'].isin(target_items))]\n",
        "\n",
        "    # Step 4: Create the pivot table\n",
        "    matrix = matrix_data.pivot_table(values=\"Rating\", index=\"UserID\", columns=\"ItemID\", fill_value=0)\n",
        "\n",
        "    # Reindex to ensure the matrix shows all target items, even if some have no ratings\n",
        "    matrix = matrix.reindex(index=selected_users, columns=target_items, fill_value=0)\n",
        "\n",
        "    return matrix\n",
        "\n",
        "# Define the target items\n",
        "target_items = ['I3', 'I9', 'I17', 'I983', 'I2']  # Replace with actual ItemIDs from your dataset\n",
        "\n",
        "# Generate the dense matrix with the specified items\n",
        "dense_matrix = build_item_based_dense_matrix(data_sorted, target_items=target_items)\n",
        "print(dense_matrix)\n"
      ]
    },
    {
      "cell_type": "code",
      "execution_count": null,
      "metadata": {
        "id": "YsZ7pViDoYUu",
        "outputId": "9fb9abd6-3d71-49a2-db8d-861c5f5b612b"
      },
      "outputs": [
        {
          "data": {
            "text/html": [
              "<div>\n",
              "<style scoped>\n",
              "    .dataframe tbody tr th:only-of-type {\n",
              "        vertical-align: middle;\n",
              "    }\n",
              "\n",
              "    .dataframe tbody tr th {\n",
              "        vertical-align: top;\n",
              "    }\n",
              "\n",
              "    .dataframe thead th {\n",
              "        text-align: right;\n",
              "    }\n",
              "</style>\n",
              "<table border=\"1\" class=\"dataframe\">\n",
              "  <thead>\n",
              "    <tr style=\"text-align: right;\">\n",
              "      <th></th>\n",
              "      <th>UserID</th>\n",
              "      <th>ItemID</th>\n",
              "      <th>Rating</th>\n",
              "    </tr>\n",
              "  </thead>\n",
              "  <tbody>\n",
              "    <tr>\n",
              "      <th>8</th>\n",
              "      <td>U9</td>\n",
              "      <td>I1</td>\n",
              "      <td>2</td>\n",
              "    </tr>\n",
              "    <tr>\n",
              "      <th>85</th>\n",
              "      <td>U86</td>\n",
              "      <td>I1</td>\n",
              "      <td>2</td>\n",
              "    </tr>\n",
              "    <tr>\n",
              "      <th>96</th>\n",
              "      <td>U97</td>\n",
              "      <td>I1</td>\n",
              "      <td>2</td>\n",
              "    </tr>\n",
              "    <tr>\n",
              "      <th>149</th>\n",
              "      <td>U150</td>\n",
              "      <td>I1</td>\n",
              "      <td>2</td>\n",
              "    </tr>\n",
              "    <tr>\n",
              "      <th>277</th>\n",
              "      <td>U278</td>\n",
              "      <td>I1</td>\n",
              "      <td>2</td>\n",
              "    </tr>\n",
              "    <tr>\n",
              "      <th>...</th>\n",
              "      <td>...</td>\n",
              "      <td>...</td>\n",
              "      <td>...</td>\n",
              "    </tr>\n",
              "    <tr>\n",
              "      <th>20553302</th>\n",
              "      <td>U158706</td>\n",
              "      <td>I9838500</td>\n",
              "      <td>2</td>\n",
              "    </tr>\n",
              "    <tr>\n",
              "      <th>20553324</th>\n",
              "      <td>U121803</td>\n",
              "      <td>I9838522</td>\n",
              "      <td>2</td>\n",
              "    </tr>\n",
              "    <tr>\n",
              "      <th>20553327</th>\n",
              "      <td>U121803</td>\n",
              "      <td>I9838525</td>\n",
              "      <td>2</td>\n",
              "    </tr>\n",
              "    <tr>\n",
              "      <th>20553349</th>\n",
              "      <td>U26062</td>\n",
              "      <td>I9838547</td>\n",
              "      <td>2</td>\n",
              "    </tr>\n",
              "    <tr>\n",
              "      <th>20553451</th>\n",
              "      <td>U222027</td>\n",
              "      <td>I9838649</td>\n",
              "      <td>2</td>\n",
              "    </tr>\n",
              "  </tbody>\n",
              "</table>\n",
              "<p>1117046 rows × 3 columns</p>\n",
              "</div>"
            ],
            "text/plain": [
              "           UserID    ItemID  Rating\n",
              "8              U9        I1       2\n",
              "85            U86        I1       2\n",
              "96            U97        I1       2\n",
              "149          U150        I1       2\n",
              "277          U278        I1       2\n",
              "...           ...       ...     ...\n",
              "20553302  U158706  I9838500       2\n",
              "20553324  U121803  I9838522       2\n",
              "20553327  U121803  I9838525       2\n",
              "20553349   U26062  I9838547       2\n",
              "20553451  U222027  I9838649       2\n",
              "\n",
              "[1117046 rows x 3 columns]"
            ]
          },
          "execution_count": 191,
          "metadata": {},
          "output_type": "execute_result"
        }
      ],
      "source": [
        "data_sorted[data_sorted[\"Rating\"] == 2]\n"
      ]
    },
    {
      "cell_type": "code",
      "execution_count": null,
      "metadata": {
        "id": "c47soT5XoYUu"
      },
      "outputs": [],
      "source": [
        "from sklearn.metrics.pairwise import cosine_similarity\n"
      ]
    },
    {
      "cell_type": "code",
      "execution_count": null,
      "metadata": {
        "id": "JBoGATp0oYUu"
      },
      "outputs": [],
      "source": [
        "dense_matrix = pd.DataFrame({\n",
        "    'I3': [4.0, 0.0, 4.0, 0.0, 2.0],\n",
        "    'I9': [0.0, 3.0, 0.0, 3.0, 0.0],\n",
        "    'I17': [0.0, 0.0, 4.0, 0.0, 4.0],\n",
        "    'I983': [2.0, 3.0, 0.0, 3.0, 0.0],\n",
        "    'I2': [5.0, 5.0, 4.0, 5.0, 5.0]\n",
        "}, index=['U1099', 'U1060', 'U898', 'U646', 'U713'])\n",
        "\n"
      ]
    },
    {
      "cell_type": "code",
      "execution_count": null,
      "metadata": {
        "id": "81Js7jU7oYUu",
        "outputId": "53314982-173b-485e-fa3f-72e1df05a994"
      },
      "outputs": [
        {
          "name": "stdout",
          "output_type": "stream",
          "text": [
            "User Similarity Matrix:\n",
            "          U1099     U1060      U898      U646      U713\n",
            "U1099  1.000000  0.704727  0.774597  0.704727  0.733333\n",
            "U1060  0.704727  1.000000  0.440225  1.000000  0.568329\n",
            "U898   0.774597  0.440225  1.000000  0.440225  0.946729\n",
            "U646   0.704727  1.000000  0.440225  1.000000  0.568329\n",
            "U713   0.733333  0.568329  0.946729  0.568329  1.000000\n",
            "Predicted rating for user 'U1099' on item 'I9': 3.00\n"
          ]
        }
      ],
      "source": [
        "# Calculate the cosine similarity between users\n",
        "user_similarity = cosine_similarity(dense_matrix)\n",
        "user_similarity_df = pd.DataFrame(user_similarity, index=dense_matrix.index, columns=dense_matrix.index)\n",
        "\n",
        "# Display the user similarity matrix\n",
        "print(\"User Similarity Matrix:\")\n",
        "print(user_similarity_df)\n",
        "\n",
        "# Function to predict ratings based on user-based collaborative filtering\n",
        "def predict_rating(user_id, item_id, dense_matrix, user_similarity_df):\n",
        "    # Get the indices for the target user and item\n",
        "    user_idx = dense_matrix.index.get_loc(user_id)\n",
        "\n",
        "    # Find the similarity scores of the target user with all other users\n",
        "    user_sim_scores = user_similarity_df.iloc[user_idx]\n",
        "\n",
        "    # Extract ratings of the target item by all users\n",
        "    item_ratings = dense_matrix[item_id]\n",
        "\n",
        "    # Select only users who have rated the target item\n",
        "    valid_ratings = item_ratings[item_ratings > 0]\n",
        "\n",
        "    # Compute the weighted sum of ratings and sum of similarities\n",
        "    weighted_ratings_sum = (user_sim_scores[valid_ratings.index] * valid_ratings).sum()\n",
        "    similarity_sum = user_sim_scores[valid_ratings.index].sum()\n",
        "\n",
        "    # Predict rating (avoid division by zero)\n",
        "    if similarity_sum == 0:\n",
        "        return 0\n",
        "    predicted_rating = weighted_ratings_sum / similarity_sum\n",
        "    return predicted_rating\n",
        "\n",
        "# Example usage: Predicting the rating of user 'U1099' for item 'I9'\n",
        "predicted_rating = predict_rating('U1099', 'I9', dense_matrix, user_similarity_df)\n",
        "print(f\"Predicted rating for user 'U1099' on item 'I9': {predicted_rating:.2f}\")"
      ]
    },
    {
      "cell_type": "code",
      "execution_count": null,
      "metadata": {
        "id": "xP2vjeO-oYUv",
        "outputId": "6613ac3d-d942-4e25-d71d-60620eebeef1"
      },
      "outputs": [
        {
          "name": "stdout",
          "output_type": "stream",
          "text": [
            "Item Similarity Matrix:\n",
            "            I3        I9       I17      I983        I2\n",
            "I3    1.000000  0.000000  0.707107  0.284268  0.711832\n",
            "I9    0.000000  1.000000  0.000000  0.904534  0.656532\n",
            "I17   0.707107  0.000000  1.000000  0.000000  0.590879\n",
            "I983  0.284268  0.904534  0.000000  1.000000  0.791808\n",
            "I2    0.711832  0.656532  0.590879  0.791808  1.000000\n",
            "Predicted rating for user 'U1099' on item 'I9': 3.26\n"
          ]
        }
      ],
      "source": [
        "# Transpose the matrix to calculate item similarity\n",
        "item_matrix = dense_matrix.T\n",
        "\n",
        "# Calculate the cosine similarity between items\n",
        "item_similarity = cosine_similarity(item_matrix)\n",
        "item_similarity_df = pd.DataFrame(item_similarity, index=item_matrix.index, columns=item_matrix.index)\n",
        "\n",
        "# Display the item similarity matrix\n",
        "print(\"Item Similarity Matrix:\")\n",
        "print(item_similarity_df)\n",
        "\n",
        "# Function to predict ratings based on item-based collaborative filtering\n",
        "def predict_rating_item_based(user_id, item_id, dense_matrix, item_similarity_df):\n",
        "    # Get the index of the target item\n",
        "    item_idx = dense_matrix.columns.get_loc(item_id)\n",
        "\n",
        "    # Find the similarity scores of the target item with all other items\n",
        "    item_sim_scores = item_similarity_df.iloc[item_idx]\n",
        "\n",
        "    # Extract ratings of the target user for all items\n",
        "    user_ratings = dense_matrix.loc[user_id]\n",
        "\n",
        "    # Select only items rated by the target user\n",
        "    valid_ratings = user_ratings[user_ratings > 0]\n",
        "\n",
        "    # Compute the weighted sum of ratings and sum of similarities\n",
        "    weighted_ratings_sum = (item_sim_scores[valid_ratings.index] * valid_ratings).sum()\n",
        "    similarity_sum = item_sim_scores[valid_ratings.index].sum()\n",
        "\n",
        "    # Predict rating (avoid division by zero)\n",
        "    if similarity_sum == 0:\n",
        "        return 0\n",
        "    predicted_rating = weighted_ratings_sum / similarity_sum\n",
        "    return predicted_rating\n",
        "\n",
        "# Example usage: Predicting the rating of user 'U1099' for item 'I9'\n",
        "predicted_rating = predict_rating_item_based('U1099', 'I9', dense_matrix, item_similarity_df)\n",
        "print(f\"Predicted rating for user 'U1099' on item 'I9': {predicted_rating:.2f}\")\n"
      ]
    },
    {
      "cell_type": "code",
      "execution_count": null,
      "metadata": {
        "id": "xuVRP5zYoYUv",
        "outputId": "387056bb-f82f-42c5-a243-63870eefac0b"
      },
      "outputs": [
        {
          "name": "stdout",
          "output_type": "stream",
          "text": [
            "User Similarity Matrix (Pearson):\n",
            "          U1099     U1060      U898      U646      U713\n",
            "U1099  1.000000  0.343873  0.480384  0.343873  0.423077\n",
            "U1060  0.343873  1.000000 -0.336861  1.000000  0.040456\n",
            "U898   0.480384 -0.336861  1.000000 -0.336861  0.880705\n",
            "U646   0.343873  1.000000 -0.336861  1.000000  0.040456\n",
            "U713   0.423077  0.040456  0.880705  0.040456  1.000000\n",
            "Predicted rating for user 'U1099' on item 'I9': 3.00\n"
          ]
        }
      ],
      "source": [
        "# Calculate the Pearson correlation between users\n",
        "user_similarity_df = dense_matrix.T.corr(method='pearson')\n",
        "\n",
        "# Display the user similarity matrix\n",
        "print(\"User Similarity Matrix (Pearson):\")\n",
        "print(user_similarity_df)\n",
        "\n",
        "# Function to predict ratings based on user-based collaborative filtering using Pearson correlation\n",
        "def predict_rating_pearson(user_id, item_id, dense_matrix, user_similarity_df):\n",
        "    # Get the index of the target user\n",
        "    user_idx = dense_matrix.index.get_loc(user_id)\n",
        "\n",
        "    # Find the similarity scores of the target user with all other users\n",
        "    user_sim_scores = user_similarity_df.loc[user_id]\n",
        "\n",
        "    # Extract ratings of the target item by all users\n",
        "    item_ratings = dense_matrix[item_id]\n",
        "\n",
        "    # Select only users who have rated the target item\n",
        "    valid_ratings = item_ratings[item_ratings > 0]\n",
        "\n",
        "    # Compute the weighted sum of ratings and sum of similarities\n",
        "    weighted_ratings_sum = (user_sim_scores[valid_ratings.index] * valid_ratings).sum()\n",
        "    similarity_sum = user_sim_scores[valid_ratings.index].abs().sum()  # Use absolute to avoid negative correlations\n",
        "\n",
        "    # Predict rating (avoid division by zero)\n",
        "    if similarity_sum == 0:\n",
        "        return 0\n",
        "    predicted_rating = weighted_ratings_sum / similarity_sum\n",
        "    return predicted_rating\n",
        "\n",
        "# Example usage: Predicting the rating of user 'U1099' for item 'I9'\n",
        "predicted_rating = predict_rating_pearson('U1099', 'I9', dense_matrix, user_similarity_df)\n",
        "print(f\"Predicted rating for user 'U1099' on item 'I9': {predicted_rating:.2f}\")"
      ]
    },
    {
      "cell_type": "code",
      "execution_count": null,
      "metadata": {
        "id": "W468nD_koYUv",
        "outputId": "82514b4f-a97c-4283-ec82-ec3255390e94"
      },
      "outputs": [
        {
          "name": "stdout",
          "output_type": "stream",
          "text": [
            "Item Similarity Matrix (Pearson):\n",
            "            I3        I9       I17      I983        I2\n",
            "I3    1.000000 -0.912871  0.456435 -0.659380 -0.559017\n",
            "I9   -0.912871  1.000000 -0.666667  0.842701  0.408248\n",
            "I17   0.456435 -0.666667  1.000000 -0.963087 -0.612372\n",
            "I983 -0.659380  0.842701 -0.963087  1.000000  0.589768\n",
            "I2   -0.559017  0.408248 -0.612372  0.589768  1.000000\n",
            "Predicted rating for user 'U1099' on item 'I9': 0.03\n"
          ]
        }
      ],
      "source": [
        "\n",
        "# Calculate the Pearson correlation between items\n",
        "item_similarity_df = dense_matrix.corr(method='pearson')\n",
        "\n",
        "# Display the item similarity matrix\n",
        "print(\"Item Similarity Matrix (Pearson):\")\n",
        "print(item_similarity_df)\n",
        "\n",
        "# Function to predict ratings based on item-based collaborative filtering using Pearson correlation\n",
        "def predict_rating_item_based_pearson(user_id, item_id, dense_matrix, item_similarity_df):\n",
        "    # Get the index of the target item\n",
        "    item_idx = dense_matrix.columns.get_loc(item_id)\n",
        "\n",
        "    # Find the similarity scores of the target item with all other items\n",
        "    item_sim_scores = item_similarity_df.loc[item_id]\n",
        "\n",
        "    # Extract ratings of the target user for all items\n",
        "    user_ratings = dense_matrix.loc[user_id]\n",
        "\n",
        "    # Select only items rated by the target user\n",
        "    valid_ratings = user_ratings[user_ratings > 0]\n",
        "\n",
        "    # Compute the weighted sum of ratings and sum of similarities\n",
        "    weighted_ratings_sum = (item_sim_scores[valid_ratings.index] * valid_ratings).sum()\n",
        "    similarity_sum = item_sim_scores[valid_ratings.index].abs().sum()  # Use absolute to handle negative correlations\n",
        "\n",
        "    # Predict rating (avoid division by zero)\n",
        "    if similarity_sum == 0:\n",
        "        return 0\n",
        "    predicted_rating = weighted_ratings_sum / similarity_sum\n",
        "    return predicted_rating\n",
        "\n",
        "# Example usage: Predicting the rating of user 'U1099' for item 'I9'\n",
        "predicted_rating = predict_rating_item_based_pearson('U1099', 'I9', dense_matrix, item_similarity_df)\n",
        "print(f\"Predicted rating for user 'U1099' on item 'I9': {predicted_rating:.2f}\")\n"
      ]
    }
  ],
  "metadata": {
    "kernelspec": {
      "display_name": "Python 3",
      "language": "python",
      "name": "python3"
    },
    "language_info": {
      "codemirror_mode": {
        "name": "ipython",
        "version": 3
      },
      "file_extension": ".py",
      "mimetype": "text/x-python",
      "name": "python",
      "nbconvert_exporter": "python",
      "pygments_lexer": "ipython3",
      "version": "3.12.5"
    },
    "colab": {
      "provenance": []
    }
  },
  "nbformat": 4,
  "nbformat_minor": 0
}